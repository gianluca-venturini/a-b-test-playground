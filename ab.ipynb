{
 "cells": [
  {
   "cell_type": "code",
   "execution_count": 2134,
   "metadata": {},
   "outputs": [
    {
     "name": "stdout",
     "output_type": "stream",
     "text": [
      "p-value 0.9966796601069445\n",
      "Fail to reject null hypothesis\n"
     ]
    }
   ],
   "source": [
    "import random\n",
    "import math\n",
    "\n",
    "def a():\n",
    "    return random.random()\n",
    "\n",
    "def b():\n",
    "    return random.random() + 0.02\n",
    "\n",
    "def avg(samples):\n",
    "    return sum(samples) / len(samples)\n",
    "\n",
    "def sample_variance(samples):\n",
    "    mean = avg(samples)\n",
    "    squared_diff = [(x - mean) ** 2 for x in samples]\n",
    "    return sum(squared_diff) / (len(samples) - 1)\n",
    "\n",
    "def get_z_score(a_samples, b_samples):\n",
    "    lift_threshold = 0.03\n",
    "    delta = lift_threshold\n",
    "    se = math.sqrt(\n",
    "        sample_variance(b_samples) / num_samples +\n",
    "        sample_variance(a_samples) / num_samples\n",
    "    )\n",
    "    return (avg(b_samples) - avg(a_samples) - delta) / se\n",
    "\n",
    "'''\n",
    "Returns the area under the standard normal distribution from -inf to z\n",
    "'''\n",
    "def get_p_value(z):\n",
    "    return 0.5 * (1 + math.erf(z / math.sqrt(2)))\n",
    "\n",
    "# Null HP: option b lift is less than lift_threshold\n",
    "# Using Z-table because popoulation is more than 30\n",
    "\n",
    "num_samples = 100\n",
    "p_value_threshold = 0.05\n",
    "\n",
    "a_samples = [a() for _ in range(num_samples)]\n",
    "b_samples = [b() for _ in range(num_samples)]\n",
    "\n",
    "z = get_z_score(a_samples, b_samples)\n",
    "p_value = 1 - get_p_value(z)\n",
    "print('p-value', p_value)\n",
    "if p_value < p_value_threshold:\n",
    "    print('Reject null hypothesis')\n",
    "else:\n",
    "    print('Fail to reject null hypothesis')\n"
   ]
  },
  {
   "cell_type": "code",
   "execution_count": 2142,
   "metadata": {},
   "outputs": [
    {
     "name": "stdout",
     "output_type": "stream",
     "text": [
      "percentage of rejected null hypothesis 0.0324\n"
     ]
    }
   ],
   "source": [
    "count_rejected = 0\n",
    "num_trials = 10000\n",
    "for _ in range(num_trials):\n",
    "    a_samples = [a() for _ in range(num_samples)]\n",
    "    b_samples = [b() for _ in range(num_samples)]\n",
    "    z = get_z_score(a_samples, b_samples)\n",
    "    p_value = 1 - get_p_value(z)\n",
    "    if p_value < p_value_threshold:\n",
    "        count_rejected += 1\n",
    "\n",
    "print('percentage of rejected null hypothesis', count_rejected / num_trials)\n"
   ]
  }
 ],
 "metadata": {
  "kernelspec": {
   "display_name": "Python 3",
   "language": "python",
   "name": "python3"
  },
  "language_info": {
   "codemirror_mode": {
    "name": "ipython",
    "version": 3
   },
   "file_extension": ".py",
   "mimetype": "text/x-python",
   "name": "python",
   "nbconvert_exporter": "python",
   "pygments_lexer": "ipython3",
   "version": "3.9.13"
  }
 },
 "nbformat": 4,
 "nbformat_minor": 2
}
